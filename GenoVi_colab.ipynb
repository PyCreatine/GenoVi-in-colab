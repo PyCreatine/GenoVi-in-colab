{
  "nbformat": 4,
  "nbformat_minor": 0,
  "metadata": {
    "colab": {
      "provenance": []
    },
    "kernelspec": {
      "name": "python3",
      "display_name": "Python 3"
    },
    "language_info": {
      "name": "python"
    }
  },
  "cells": [
    {
      "cell_type": "code",
      "execution_count": 1,
      "metadata": {
        "colab": {
          "base_uri": "https://localhost:8080/"
        },
        "id": "7ZMl4h45Drac",
        "outputId": "c5791e4f-4107-4dd7-e1f0-c3bdf6988b76",
        "cellView": "form"
      },
      "outputs": [
        {
          "output_type": "stream",
          "name": "stdout",
          "text": [
            "Downloading circos...\n",
            "Decompressing circos...\n",
            "Installing libgd-dev and cpanminus...\n",
            "Installing perl modules with cpan...\n",
            "Installing GD and GC::Polyline modules using cpanm...\n",
            "Installing GenoVi using pip...\n",
            "\n",
            "Running a final test by checking if all required perl modules have been installed correctly. Please confirm every module name is preceded by an 'ok'\n",
            "ok       1.50 Carp\n",
            "ok       0.46 Clone\n",
            "ok       2.65 Config::General\n",
            "ok       3.78 Cwd\n",
            "ok      2.174 Data::Dumper\n",
            "ok       2.55 Digest::MD5\n",
            "ok       2.85 File::Basename\n",
            "ok       3.78 File::Spec::Functions\n",
            "ok     0.2309 File::Temp\n",
            "ok       1.51 FindBin\n",
            "ok       0.39 Font::TTF::Font\n",
            "ok       2.76 GD\n",
            "ok        0.2 GD::Polyline\n",
            "ok        2.5 Getopt::Long\n",
            "ok       1.40 IO::File\n",
            "ok      0.430 List::MoreUtils\n",
            "ok        1.5 List::Util\n",
            "ok       0.01 Math::Bezier\n",
            "ok   1.999816 Math::BigFloat\n",
            "ok       0.07 Math::Round\n",
            "ok       0.08 Math::VecStat\n",
            "ok    1.03_01 Memoize\n",
            "ok       1.88 POSIX\n",
            "ok       1.31 Params::Validate\n",
            "ok       1.69 Pod::Usage\n",
            "ok       2.05 Readonly\n",
            "ok 2017060201 Regexp::Common\n",
            "ok       2.87 SVG\n",
            "ok       1.19 Set::IntSpan\n",
            "ok     1.6611 Statistics::Basic\n",
            "ok       3.15 Storable\n",
            "ok       1.22 Sys::Hostname\n",
            "ok       2.03 Text::Balanced\n",
            "ok       0.62 Text::Format\n",
            "ok      1.976 Time::HiRes\n",
            "\n",
            "Setup complete! For more information on how to use GenoVi, please visit its GitHub wiki at https://github.com/esteinig/genovi/wiki\n"
          ]
        }
      ],
      "source": [
        "#@title # Setup Cell\n",
        "#@markdown This cell must be run before any other cell in the notebook to properly set up the environment.\n",
        "#@markdown To run this cell, click on it to select it and then either click the play button on the left or press Shift+Enter.\n",
        "\n",
        "import subprocess\n",
        "\n",
        "try:\n",
        "    # Download circos\n",
        "    print(\"Downloading circos...\")\n",
        "    subprocess.check_output(\"wget -q http://circos.ca/distribution/circos-0.69-8.tgz\", shell=True)\n",
        "except subprocess.CalledProcessError:\n",
        "    print(\"An error occurred while downloading circos.\")\n",
        "\n",
        "try:\n",
        "    # Decompress the tgz file\n",
        "    print(\"Decompressing circos...\")\n",
        "    subprocess.check_output(\"tar xvfz circos-0.69-8.tgz > /dev/null\", shell=True)\n",
        "except subprocess.CalledProcessError:\n",
        "    print(\"An error occurred while decompressing circos.\")\n",
        "\n",
        "try:\n",
        "    # Add /content/circos-0.69-8/bin to the PATH variable\n",
        "    import os\n",
        "    os.environ['PATH'] += \":/content/circos-0.69-8/bin\"\n",
        "except:\n",
        "    print(\"An error occurred while adding /content/circos-0.69-8/bin to the PATH variable.\")\n",
        "\n",
        "try:\n",
        "    # Install libgd-dev and cpanminus\n",
        "    print(\"Installing libgd-dev and cpanminus...\")\n",
        "    subprocess.check_output(\"apt-get install -y libgd-dev cpanminus > /dev/null\", shell=True)\n",
        "except subprocess.CalledProcessError:\n",
        "    print(\"An error occurred while installing libgd-dev and cpanminus.\")\n",
        "\n",
        "try:\n",
        "    # Install perl modules with cpan\n",
        "    print(\"Installing perl modules with cpan...\")\n",
        "    subprocess.check_output(\"echo yes | cpan install Clone Config::General Font::TTF::Font List::MoreUtils Math::Bezier Math::Round Math::VecStat Params::Validate Readonly Regexp::Common SVG Set::IntSpan Statistics::Basic Text::Format > /dev/null 2>&1\", shell=True)\n",
        "except subprocess.CalledProcessError:\n",
        "    print(\"An error occurred while installing perl modules with cpan.\")\n",
        "\n",
        "try:\n",
        "    # Install GD and GC::Polyline modules using cpanm\n",
        "    print(\"Installing GD and GC::Polyline modules using cpanm...\")\n",
        "    subprocess.check_output(\"cpanm -q GD GD::Polyline > /dev/null 2>&1\", shell=True)\n",
        "except subprocess.CalledProcessError:\n",
        "    print(\"An error occurred while installing GD and GC::Polyline modules using cpanm.\")\n",
        "\n",
        "try:\n",
        "    # Install GenoVi using pip\n",
        "    print(\"Installing GenoVi using pip...\")\n",
        "    subprocess.check_output(\"pip install -q GenoVi > /dev/null\", shell=True)\n",
        "except subprocess.CalledProcessError:\n",
        "    print(\"An error occurred while installing GenoVi using pip.\")\n",
        "\n",
        "# Run a final sanity test by checking if all required perl modules have been installed correctly\n",
        "print(\"\\nRunning a final test by checking if all required perl modules have been installed correctly. Please confirm every module name is preceded by an 'ok'\")\n",
        "!circos -modules\n",
        "\n",
        "print(\"\\nSetup complete! For more information on how to use GenoVi, please visit its GitHub wiki at https://github.com/esteinig/genovi/wiki\")"
      ]
    },
    {
      "cell_type": "code",
      "source": [
        "#Example input used in the GenoVi documentation\n",
        "!git clone https://github.com/robotoD/GenoVi > /dev/null\n",
        "!genovi -i ./GenoVi/input_test/Corynebacterium_alimapuense_VA37.gbk -s draft -cs paradise --cogs_unclassified -bc white\n",
        "\n",
        "#Output files are saved by default to the path ./genovi, you can download them manually from the file navigator"
      ],
      "metadata": {
        "id": "7ZysGhovIjlX"
      },
      "execution_count": null,
      "outputs": []
    }
  ]
}